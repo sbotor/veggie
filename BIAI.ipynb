{
  "cells": [
    {
      "cell_type": "markdown",
      "metadata": {
        "id": "KIqC4D6KBC7R"
      },
      "source": [
        "# Setup"
      ]
    },
    {
      "cell_type": "markdown",
      "metadata": {
        "id": "YYplUiDxBHJg"
      },
      "source": [
        "Mount Google Drive if in a Colab environment:\n",
        "\n"
      ]
    },
    {
      "cell_type": "code",
      "execution_count": null,
      "metadata": {
        "colab": {
          "base_uri": "https://localhost:8080/"
        },
        "id": "cDM8G1D0o5wV",
        "outputId": "8b1f5727-2e92-40b7-8bc0-8df7eab04594"
      },
      "outputs": [],
      "source": [
        "import sys\n",
        "if 'google' in sys.modules:\n",
        "    from google.colab import drive\n",
        "    drive.mount('/content/drive')\n",
        "    gdrive = True\n",
        "else:\n",
        "    gdrive = False"
      ]
    },
    {
      "cell_type": "markdown",
      "metadata": {
        "id": "T8cplOcIBehG"
      },
      "source": [
        "# Preparations"
      ]
    },
    {
      "cell_type": "markdown",
      "metadata": {
        "id": "Daz-xtTVBRkf"
      },
      "source": [
        "Prepare the Colab environment for imports. If using Google Drive the data should be in a directory called _'BIAI'_."
      ]
    },
    {
      "cell_type": "code",
      "execution_count": null,
      "metadata": {
        "id": "ZTzwza5HqD6a"
      },
      "outputs": [],
      "source": [
        "FOLDER_HOME = '/content/drive/MyDrive/BIAI' if 'gdrive' in locals() and gdrive else '.'\n",
        "\n",
        "sys.path.append(FOLDER_HOME)"
      ]
    },
    {
      "cell_type": "markdown",
      "metadata": {
        "id": "5ntiO4QaBxyq"
      },
      "source": [
        "Import the modules and define constants:"
      ]
    },
    {
      "cell_type": "code",
      "execution_count": null,
      "metadata": {
        "id": "8D-t0d-Kqd1A"
      },
      "outputs": [],
      "source": [
        "from data import Loader, TestLogger, TrainLogger\n",
        "from network import Network, Trainer, Tester, DEVICE\n",
        "\n",
        "DATA_HOME = FOLDER_HOME + '/data'\n",
        "\n",
        "LEARNING_RATE = 0.001\n",
        "EPOCHS = 100\n",
        "\n",
        "MODEL_OUTPUT_PATH = FOLDER_HOME + '/model.pt'\n",
        "MODEL_INPUT_PATH = None"
      ]
    },
    {
      "cell_type": "markdown",
      "metadata": {
        "id": "df5RLT-SCD1H"
      },
      "source": [
        "Define functions for training and testing:"
      ]
    },
    {
      "cell_type": "code",
      "execution_count": null,
      "metadata": {
        "id": "7GQRhN4LwSXA"
      },
      "outputs": [],
      "source": [
        "def train(net, trainer, train_data, train_logger, epoch):\n",
        "  print(f'* Training epoch ({DEVICE}): {epoch}/{EPOCHS}...')\n",
        "  \n",
        "  net.train()\n",
        "  train_logger.start(epoch)\n",
        "  loss = trainer.train(net, train_data)\n",
        "  train_logger.log_epoch(loss)\n",
        "  \n",
        "  print(f'* Finished training epoch: {epoch}/{EPOCHS}')\n",
        "\n",
        "def test(net, tester, test_data, test_logger):\n",
        "  print(f'* Testing...')\n",
        "  \n",
        "  net.eval()\n",
        "  test_logger.start()\n",
        "  correct, total = tester.test(net, test_data)\n",
        "  test_logger.log_test_result(correct, total)\n",
        "  \n",
        "  print(f'Correct: {correct}/{total}, ({100 * correct / total:.2f}%)')"
      ]
    },
    {
      "cell_type": "markdown",
      "metadata": {
        "id": "kyU35ICyCNhH"
      },
      "source": [
        "Create all the components:"
      ]
    },
    {
      "cell_type": "code",
      "execution_count": null,
      "metadata": {
        "id": "ETtXYn2bsLOZ"
      },
      "outputs": [],
      "source": [
        "loader = Loader(DATA_HOME)\n",
        "train_folder, train_data = loader.load_train()\n",
        "test_folder, test_data = loader.load_test()\n",
        "classes = train_folder.classes\n",
        "\n",
        "net = None\n",
        "if MODEL_INPUT_PATH:\n",
        "  net = Network.load(MODEL_INPUT_PATH)\n",
        "else:\n",
        "  net = Network(len(classes), classes)\n",
        "\n",
        "trainer = Trainer(LEARNING_RATE)\n",
        "trainer.verbose = True\n",
        "trainer.report_freq = 2\n",
        "tester = Tester()\n",
        "\n",
        "train_logger = TrainLogger(FOLDER_HOME + '/train.csv')\n",
        "test_logger = TestLogger(FOLDER_HOME + '/test.csv')"
      ]
    },
    {
      "cell_type": "markdown",
      "metadata": {
        "id": "CnX0gXTUCHuB"
      },
      "source": [
        "# Main loop"
      ]
    },
    {
      "cell_type": "code",
      "execution_count": null,
      "metadata": {
        "colab": {
          "base_uri": "https://localhost:8080/",
          "height": 729
        },
        "id": "uFf92Ugp00g5",
        "outputId": "2650ca9a-0c74-47d0-fdb2-92ce0f49b61b"
      },
      "outputs": [],
      "source": [
        "train(net, trainer, train_data, train_logger, 1)\n",
        "net.save(MODEL_OUTPUT_PATH)\n",
        "test(net, tester, test_data, test_logger)\n",
        "\n",
        "train_logger.append = True\n",
        "test_logger.append = True\n",
        "for epoch in range(1, EPOCHS):\n",
        "  train(net, trainer, train_data, train_logger, epoch + 1)\n",
        "  net.save(MODEL_OUTPUT_PATH)\n",
        "  test(net, tester, test_data, test_logger)\n",
        "\n",
        "net.save(MODEL_OUTPUT_PATH)"
      ]
    }
  ],
  "metadata": {
    "accelerator": "GPU",
    "colab": {
      "collapsed_sections": [],
      "name": "BIAI",
      "provenance": []
    },
    "interpreter": {
      "hash": "70ba3b4563ed1270d4e2d5148285444beef28c03400c936143722af3eccba5f8"
    },
    "kernelspec": {
      "display_name": "Python 3.10.2 ('venv': venv)",
      "language": "python",
      "name": "python3"
    },
    "language_info": {
      "codemirror_mode": {
        "name": "ipython",
        "version": 3
      },
      "file_extension": ".py",
      "mimetype": "text/x-python",
      "name": "python",
      "nbconvert_exporter": "python",
      "pygments_lexer": "ipython3",
      "version": "3.10.2"
    }
  },
  "nbformat": 4,
  "nbformat_minor": 0
}
