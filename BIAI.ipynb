{
  "cells": [
    {
      "cell_type": "markdown",
      "metadata": {
        "id": "KIqC4D6KBC7R"
      },
      "source": [
        "# Setup"
      ]
    },
    {
      "cell_type": "markdown",
      "metadata": {
        "id": "YYplUiDxBHJg"
      },
      "source": [
        "Mount Google Drive:\n",
        "\n"
      ]
    },
    {
      "cell_type": "code",
      "execution_count": null,
      "metadata": {
        "id": "cDM8G1D0o5wV"
      },
      "outputs": [],
      "source": [
        "from google.colab import drive\n",
        "drive.mount('/content/drive')"
      ]
    },
    {
      "cell_type": "markdown",
      "metadata": {
        "id": "Tpp2AswSBMSw"
      },
      "source": [
        "Copy dataset if needed:"
      ]
    },
    {
      "cell_type": "code",
      "execution_count": null,
      "metadata": {
        "id": "5_lgOt55_gy7"
      },
      "outputs": [],
      "source": [
        "!cp -r '/content/drive/MyDrive/BIAI/data' '/content/data'"
      ]
    },
    {
      "cell_type": "markdown",
      "metadata": {
        "id": "53_MHUmABOz6"
      },
      "source": [
        "To optionally remove the dataset use this:"
      ]
    },
    {
      "cell_type": "code",
      "execution_count": null,
      "metadata": {
        "id": "He7_-pZsAxlm"
      },
      "outputs": [],
      "source": [
        "!rm -r '/content/data'"
      ]
    },
    {
      "cell_type": "markdown",
      "metadata": {
        "id": "T8cplOcIBehG"
      },
      "source": [
        "# Preparations"
      ]
    },
    {
      "cell_type": "markdown",
      "metadata": {
        "id": "Daz-xtTVBRkf"
      },
      "source": [
        "Prepare the Colab environment for imports:"
      ]
    },
    {
      "cell_type": "code",
      "execution_count": null,
      "metadata": {
        "id": "ZTzwza5HqD6a"
      },
      "outputs": [],
      "source": [
        "FOLDER_HOME = '/content/drive/MyDrive/BIAI'\n",
        "\n",
        "import sys\n",
        "sys.path.append(FOLDER_HOME)"
      ]
    },
    {
      "cell_type": "markdown",
      "metadata": {
        "id": "5ntiO4QaBxyq"
      },
      "source": [
        "Import the modules and define constants:"
      ]
    },
    {
      "cell_type": "code",
      "execution_count": null,
      "metadata": {
        "id": "8D-t0d-Kqd1A"
      },
      "outputs": [],
      "source": [
        "from data import Loader, TestLogger, TrainLogger\n",
        "from network import Network, Trainer, Tester, DEVICE\n",
        "\n",
        "IMG_DIM = 320\n",
        "DATA_HOME = FOLDER_HOME + '/data'\n",
        "LEARNING_RATE = 0.001\n",
        "EPOCHS = 1\n",
        "\n",
        "MODEL_SAVE_PATH = FOLDER_HOME + '/model.pt'\n",
        "MODEL_PATH = None"
      ]
    },
    {
      "cell_type": "markdown",
      "metadata": {
        "id": "df5RLT-SCD1H"
      },
      "source": [
        "Define functions for training and testing:"
      ]
    },
    {
      "cell_type": "code",
      "execution_count": null,
      "metadata": {
        "id": "7GQRhN4LwSXA"
      },
      "outputs": [],
      "source": [
        "def train(net, trainer, train_data, train_logger, epoch):\n",
        "  print(f'* Training epoch ({DEVICE}): {epoch}/{EPOCHS}...')\n",
        "  train_logger.start(epoch)\n",
        "  loss = trainer.train(net, train_data)\n",
        "  train_logger.log_epoch(loss)\n",
        "  print(f'* Finished training epoch: {epoch}/{EPOCHS}')\n",
        "\n",
        "def test(net, tester, test_data, test_logger):\n",
        "  print(f'* Testing...')\n",
        "  test_logger.start()\n",
        "  correct, total = tester.test(net, test_data)\n",
        "  test_logger.log_test_result(correct, total)\n",
        "  print(f'Correct: {correct}/{total}, ({100 * correct / total:.2f}%)')"
      ]
    },
    {
      "cell_type": "markdown",
      "metadata": {
        "id": "kyU35ICyCNhH"
      },
      "source": [
        "Create all the components:"
      ]
    },
    {
      "cell_type": "code",
      "execution_count": null,
      "metadata": {
        "id": "ETtXYn2bsLOZ"
      },
      "outputs": [],
      "source": [
        "loader = Loader(DATA_HOME)\n",
        "train_folder, train_data = loader.load_train()\n",
        "test_folder, test_data = loader.load_test()\n",
        "classes = train_folder.classes\n",
        "\n",
        "net = None\n",
        "if MODEL_PATH:\n",
        "  net = Network.load(MODEL_PATH)\n",
        "else:\n",
        "  net = Network(IMG_DIM, len(classes), classes)\n",
        "\n",
        "trainer = Trainer(LEARNING_RATE)\n",
        "trainer.verbose = True\n",
        "trainer.report_freq = 10\n",
        "tester = Tester()\n",
        "\n",
        "train_logger = TrainLogger(FOLDER_HOME + '/train.csv')\n",
        "test_logger = TestLogger(FOLDER_HOME + '/test.csv')"
      ]
    },
    {
      "cell_type": "markdown",
      "metadata": {
        "id": "CnX0gXTUCHuB"
      },
      "source": [
        "# Main loop"
      ]
    },
    {
      "cell_type": "code",
      "execution_count": null,
      "metadata": {
        "id": "uFf92Ugp00g5"
      },
      "outputs": [],
      "source": [
        "train(net, trainer, train_data, train_logger, 1)\n",
        "net.save(MODEL_SAVE_PATH)\n",
        "test(net, tester, test_data, test_logger)\n",
        "\n",
        "train_logger.append = True\n",
        "test_logger.append = True\n",
        "for epoch in range(1, EPOCHS):\n",
        "  train(net, trainer, train_data, train_logger, 1)\n",
        "  net.save(MODEL_SAVE_PATH)\n",
        "  test(net, tester, test_data, test_logger)\n",
        "\n",
        "net.save(MODEL_SAVE_PATH)"
      ]
    }
  ],
  "metadata": {
    "accelerator": "GPU",
    "colab": {
      "collapsed_sections": [],
      "name": "BIAI",
      "provenance": [],
      "toc_visible": true
    },
    "interpreter": {
      "hash": "70ba3b4563ed1270d4e2d5148285444beef28c03400c936143722af3eccba5f8"
    },
    "kernelspec": {
      "display_name": "Python 3.10.2 ('venv': venv)",
      "language": "python",
      "name": "python3"
    },
    "language_info": {
      "name": "python",
      "version": "3.10.2"
    }
  },
  "nbformat": 4,
  "nbformat_minor": 0
}
